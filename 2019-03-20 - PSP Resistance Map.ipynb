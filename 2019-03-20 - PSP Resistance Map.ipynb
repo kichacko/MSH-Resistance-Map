{
 "cells": [
  {
   "cell_type": "code",
   "execution_count": 1,
   "metadata": {
    "collapsed": true
   },
   "outputs": [],
   "source": [
    "# Import Modules\n",
    "\n",
    "import numpy as np\n",
    "import time as time\n",
    "import pandas as pd\n",
    "from scipy import stats\n"
   ]
  },
  {
   "cell_type": "markdown",
   "metadata": {},
   "source": [
    "#### Load Data\n",
    "#### ____"
   ]
  },
  {
   "cell_type": "code",
   "execution_count": 3,
   "metadata": {
    "collapsed": true
   },
   "outputs": [],
   "source": [
    "# Load Datasets\n",
    "microlab = pd.read_csv('./R/data/tSensitivities.php', sep = \";\", low_memory = False)\n",
    "isolates = pd.read_csv('./R/data/tIsolates.php', sep = \";\", low_memory = False)\n"
   ]
  },
  {
   "cell_type": "markdown",
   "metadata": {},
   "source": [
    "#### Format\n",
    "#### _____"
   ]
  },
  {
   "cell_type": "code",
   "execution_count": 4,
   "metadata": {
    "collapsed": true
   },
   "outputs": [],
   "source": [
    "# Microlab Data\n",
    "isolates                    = isolates[['Isolate ID', 'Unit']]\n",
    "microlab                    = pd.merge(microlab, isolates, how = 'left')\n",
    "microlab                    = microlab.dropna(subset=['Patient ID'])\n",
    "microlab['Patient ID']      = microlab['Patient ID'].astype(float)\n",
    "microlab['Collection Date'] = pd.to_datetime(microlab['Collection Date'], format = '%Y/%m/%d').dt.date\n",
    "\n",
    "transfer_1 = microlab\n"
   ]
  },
  {
   "cell_type": "markdown",
   "metadata": {},
   "source": [
    "#### Data Cleaning\n",
    "#### ____"
   ]
  },
  {
   "cell_type": "code",
   "execution_count": 5,
   "metadata": {
    "scrolled": false
   },
   "outputs": [
    {
     "name": "stderr",
     "output_type": "stream",
     "text": [
      "/Users/kichacko/anaconda3/lib/python3.6/site-packages/ipykernel_launcher.py:84: SettingWithCopyWarning: \n",
      "A value is trying to be set on a copy of a slice from a DataFrame.\n",
      "Try using .loc[row_indexer,col_indexer] = value instead\n",
      "\n",
      "See the caveats in the documentation: http://pandas.pydata.org/pandas-docs/stable/indexing.html#indexing-view-versus-copy\n",
      "/Users/kichacko/anaconda3/lib/python3.6/site-packages/pandas/core/indexing.py:517: SettingWithCopyWarning: \n",
      "A value is trying to be set on a copy of a slice from a DataFrame.\n",
      "Try using .loc[row_indexer,col_indexer] = value instead\n",
      "\n",
      "See the caveats in the documentation: http://pandas.pydata.org/pandas-docs/stable/indexing.html#indexing-view-versus-copy\n",
      "  self.obj[item] = s\n",
      "/Users/kichacko/anaconda3/lib/python3.6/site-packages/ipykernel_launcher.py:92: SettingWithCopyWarning: \n",
      "A value is trying to be set on a copy of a slice from a DataFrame.\n",
      "Try using .loc[row_indexer,col_indexer] = value instead\n",
      "\n",
      "See the caveats in the documentation: http://pandas.pydata.org/pandas-docs/stable/indexing.html#indexing-view-versus-copy\n",
      "/Users/kichacko/anaconda3/lib/python3.6/site-packages/ipykernel_launcher.py:93: SettingWithCopyWarning: \n",
      "A value is trying to be set on a copy of a slice from a DataFrame.\n",
      "Try using .loc[row_indexer,col_indexer] = value instead\n",
      "\n",
      "See the caveats in the documentation: http://pandas.pydata.org/pandas-docs/stable/indexing.html#indexing-view-versus-copy\n"
     ]
    }
   ],
   "source": [
    "microlab = transfer_1\n",
    "\n",
    "# Pathogen Names\n",
    "microlab.loc[(microlab['Pathogen'] == \"Enterobacter cloacae complex\"), 'Pathogen'] = \"Enterobacter cloacae\"\n",
    "microlab.loc[(microlab['Pathogen'] == \"Enterobacter cloacae ssp. cloacae\"), 'Pathogen'] = \"Enterobacter cloacae\"\n",
    "microlab.loc[(microlab['Pathogen'] == \"Pseudomonas aeruginosa-mucoid phenotype\"), 'Pathogen'] = \"Pseudomonas aeruginosa\"\n",
    "microlab.loc[(microlab['Pathogen'] == \"Hvisa positive staphylococcus aureus\"), 'Pathogen'] = \"Staphylococcus aureus\"\n",
    "microlab.loc[(microlab['Pathogen'] == \"Hvisa positive staphylococcus aureus-oxacillin resistant\"), 'Pathogen'] = \"Staphylococcus aureus\"\n",
    "microlab.loc[(microlab['Pathogen'] == \"Methicillin sensitive staphylococcus aureus\"), 'Pathogen'] = \"Staphylococcus aureus\"\n",
    "microlab.loc[(microlab['Pathogen'] == \"Staphylococcus aureus-oxacillin resistant\"), 'Pathogen'] = \"Staphylococcus aureus\"\n",
    "microlab.loc[(microlab['Pathogen'] == \"Staphylococcus aureus-oxacillin susceptible\"), 'Pathogen'] = \"Staphylococcus aureus\"\n",
    "\n",
    "# Antibioitc Names\n",
    "microlab.loc[(microlab['Agent'] == \"Ampicillin-S\"), 'Agent'] = \"Ampicillin\"\n",
    "microlab.loc[(microlab['Agent'] == \"Cefazolin-Urine\"), 'Agent'] = \"Cefazolin\"\n",
    "microlab.loc[(microlab['Agent'] == \"Cefazolin.\"), 'Agent'] = \"Cefazolin\"\n",
    "microlab.loc[(microlab['Agent'] == \"Cefoxitin Screen\"), 'Agent'] = \"Cefoxitin\"\n",
    "microlab.loc[(microlab['Agent'] == \"Ceftriaxone-meningitis\"), 'Agent'] = \"Ceftriaxone\"\n",
    "microlab.loc[(microlab['Agent'] == \"Ceftriaxone-nonmeningitis\"), 'Agent'] = \"Ceftriaxone\"\n",
    "microlab.loc[(microlab['Agent'] == \"Ciprofloxacin2.0\"), 'Agent'] = \"Ciprofloxacin\"\n",
    "microlab.loc[(microlab['Agent'] == \"Doxycycline 6.0\"), 'Agent'] = \"Doxycycline\"\n",
    "microlab.loc[(microlab['Agent'] == \"ESBL Scrn\"), 'Agent'] = \"ESBL\"\n",
    "microlab.loc[(microlab['Agent'] == \"Penicillin (IV)-meningitis\"), 'Agent'] = \"Penicillin\"\n",
    "microlab.loc[(microlab['Agent'] == \"Penicillin (IV)-non-meningitis\"), 'Agent'] = \"Penicillin\"\n",
    "microlab.loc[(microlab['Agent'] == \"Penicillin (PO)-non-meningitis\"), 'Agent'] = \"Penicillin\"\n",
    "microlab.loc[(microlab['Agent'] == \"Penicillin-meningitis\"), 'Agent'] = \"Penicillin\"\n",
    "microlab.loc[(microlab['Agent'] == \"Penicillin-non-meningitis\"), 'Agent'] = \"Penicillin\"\n",
    "microlab.loc[(microlab['Agent'] == \"Penicillin-non-meningitis Other\"), 'Agent'] = \"Penicillin\"\n",
    "microlab.loc[(microlab['Agent'] == \"Penicillin-other parenteral\"), 'Agent'] = \"Penicillin\"\n",
    "microlab.loc[(microlab['Agent'] == \"Piperacillin/Tazo\"), 'Agent'] = \"PIPTAZ\"\n",
    "microlab.loc[(microlab['Agent'] == \"Piperacillin/tazobactam\"), 'Agent'] = \"PIPTAZ\"\n",
    "microlab.loc[(microlab['Agent'] == \"Trimethoprim/sulfa\"), 'Agent'] = \"TMPSMX\"\n",
    "microlab.loc[(microlab['Agent'] == \"Trimethoprim/Sulfamethoxazole\"), 'Agent'] = \"TMPSMX\"\n",
    "\n",
    "# MIC\n",
    "microlab['MIC_Clean'] = microlab['MIC']\n",
    "microlab['MIC_Clean'] = microlab['MIC_Clean'].replace({\">=\": \"\"},regex=True)\n",
    "microlab['MIC_Clean'] = microlab['MIC_Clean'].replace({\"=\": \"\"},regex=True)\n",
    "microlab['MIC_Clean'] = microlab['MIC_Clean'].replace({\">\": \"\"},regex=True)\n",
    "microlab['MIC_Clean'] = microlab['MIC_Clean'].replace({\"<\": \"\"},regex=True)\n",
    "\n",
    "# Location Names\n",
    "microlab.loc[(microlab['Unit'] == \"EMERGENCY DEPARTMENT\"), 'Unit'] = \"ED\"\n",
    "\n",
    "# Procedures\n",
    "microlab.loc[(microlab['Procedure'] == \"Surveillance c&s other\"), 'Procedure'] = \"Surveillance\"\n",
    "microlab.loc[(microlab['Procedure'] == \"Culture-urine bacterial\"), 'Procedure'] = \"Culture-urine\"\n",
    "microlab.loc[(microlab['Procedure'] == \"Surveillance c&s mrsa\"), 'Procedure'] = \"Surveillance\"\n",
    "microlab.loc[(microlab['Procedure'] == \"Culture-respiratory, cystic fibrosis\"), 'Procedure'] = \"Culture-respiratory\"\n",
    "microlab.loc[(microlab['Procedure'] == \"Culture-blood, fili fungi\"), 'Procedure'] = \"Culture-blood\"\n",
    "microlab.loc[(microlab['Procedure'] == \"Wound, deep culture\"), 'Procedure'] = \"Culture-wound\"\n",
    "microlab.loc[(microlab['Procedure'] == \"Wound superficial culture\"), 'Procedure'] = \"Culture-wound\"\n",
    "microlab.loc[(microlab['Procedure'] == \"Culture-blood, endocarditis\"), 'Procedure'] = \"Culture-blood\"\n",
    "microlab.loc[(microlab['Procedure'] == \"Surveillance(respiratory), multi-drug resistant gnr\"), 'Procedure'] = \"Culture-respiratory\"\n",
    "microlab.loc[(microlab['Procedure'] == \"Culture-afb, blood\"), 'Procedure'] = \"Culture-blood\"\n",
    "microlab.loc[(microlab['Procedure'] == \"Culture-blood, brucella\"), 'Procedure'] = \"Culture-blood\"\n",
    "\n",
    "# Susceptibility\n",
    "microlab.loc[(microlab['Status'] == \"NEG\") |\n",
    "             (microlab['Status'] == \"Neg\") |\n",
    "             (microlab['Status'] == \"neg\") |\n",
    "             (microlab['Status'] == \"NEGATIVE\") |\n",
    "             (microlab['Status'] == \"Negative\") |\n",
    "             (microlab['Status'] == \"SYN-S\") |\n",
    "             (microlab['Status'] == \"S\") |\n",
    "             (microlab['Status'] == \"-\"),\n",
    "             'Status'\n",
    "            \n",
    "            ] = \"Susceptible\"\n",
    "\n",
    "microlab.loc[(microlab['Status'] == \"POS\") |\n",
    "             (microlab['Status'] == \"Pos\") |\n",
    "             (microlab['Status'] == \"Positive\") |\n",
    "             (microlab['Status'] == \"SYN-R\") |\n",
    "             (microlab['Status'] == \"R\") |\n",
    "             (microlab['Status'] == \"+\"),\n",
    "             'Status'\n",
    "            \n",
    "            ] = \"Resistant\"\n",
    "\n",
    "microlab = microlab.dropna(subset = ['Status'])\n",
    "\n",
    "# Numeric Susceptibility\n",
    "microlab['Numeric Status'] = 0\n",
    "microlab.loc[(microlab['Status'] == \"Resistant\") |\n",
    "             (microlab['Status'] == \"Intermediate\"),\n",
    "             'Numeric Status'\n",
    "            \n",
    "            ] = 1\n",
    "\n",
    "# Date\n",
    "microlab['Year']            = pd.DatetimeIndex(microlab['Collection Date']).year\n",
    "microlab['Month']           = pd.DatetimeIndex(microlab['Collection Date']).month\n",
    "\n",
    "# Clear duplicates\n",
    "microlab = microlab.drop_duplicates()\n",
    "\n",
    "transfer_2 = microlab\n"
   ]
  },
  {
   "cell_type": "markdown",
   "metadata": {},
   "source": [
    "#### Classifications\n",
    "#### ____"
   ]
  },
  {
   "cell_type": "code",
   "execution_count": 6,
   "metadata": {
    "collapsed": true
   },
   "outputs": [],
   "source": [
    "# First case isolate \"A\"\n",
    "\n",
    "microlab = transfer_2\n",
    "\n",
    "# First Case Isolates \"A\"\n",
    "subset_01 = microlab\n",
    "subset_01 = subset_01.sort_values(by = ['Isolate ID', 'Collection Date'])\n",
    "subset_01 = subset_01.drop_duplicates(subset = ['Patient ID', 'Pathogen', 'Procedure'])\n",
    "subset_01 = subset_01[['Isolate ID', 'Patient ID', 'Pathogen', 'Procedure']]\n",
    "subset_01['A'] = 1\n",
    "\n",
    "microlab = pd.merge(microlab,\n",
    "                    subset_01,\n",
    "                    how = 'left'\n",
    "                    \n",
    "                    )\n",
    "\n",
    "microlab[['A']] = microlab[['A']].fillna(value = 0)\n"
   ]
  },
  {
   "cell_type": "code",
   "execution_count": 7,
   "metadata": {
    "collapsed": true
   },
   "outputs": [],
   "source": [
    "# Single vs Multiple Infections \"B\"\n",
    "\n",
    "subset_02 = microlab.groupby(['Patient ID', 'Procedure'])['Isolate ID']\n",
    "for key, item in subset_02:\n",
    "    isolates = item.unique()\n",
    "    \n",
    "    if len(isolates) > 1:\n",
    "        microlab.loc[(microlab['Patient ID'] == key[0]) &\n",
    "                     (microlab['Procedure']  == key[1]), 'B'] = 1\n",
    "        \n",
    "    else:\n",
    "        microlab.loc[(microlab['Patient ID'] == key[0]) &\n",
    "                     (microlab['Procedure']  == key[1]), 'B'] = 0\n"
   ]
  },
  {
   "cell_type": "code",
   "execution_count": 8,
   "metadata": {
    "collapsed": true
   },
   "outputs": [],
   "source": [
    "#  Persistent Infections \"C\"\n",
    "\n",
    "subset_03 = microlab.groupby(['Patient ID', 'Procedure', 'Pathogen'])['Isolate ID']\n",
    "for key, item in subset_03:\n",
    "    isolates = item.unique()\n",
    "    \n",
    "    if len(isolates) > 1:        \n",
    "        microlab.loc[(microlab['Patient ID'] == key[0]) &\n",
    "                     (microlab['Procedure']  == key[1]) &\n",
    "                     (microlab['Pathogen']   == key[2]), 'C'] = 1\n",
    "        \n",
    "    else:\n",
    "        microlab.loc[(microlab['Patient ID'] == key[0]) &\n",
    "                     (microlab['Procedure']  == key[1]) &\n",
    "                     (microlab['Pathogen']   == key[2]), 'C'] = 0\n"
   ]
  },
  {
   "cell_type": "code",
   "execution_count": 9,
   "metadata": {
    "collapsed": true
   },
   "outputs": [],
   "source": [
    "# Intensive Care Unit \"E\"\n",
    "\n",
    "microlab['E'] = 0\n",
    "microlab.loc[(microlab['Unit'] == \"CCCU\"), 'E'] = 1\n",
    "microlab.loc[(microlab['Unit'] == \"CICU\"), 'E'] = 1\n",
    "microlab.loc[(microlab['Unit'] == \"MICU\"), 'E'] = 1\n",
    "microlab.loc[(microlab['Unit'] == \"NICU\"), 'E'] = 1\n",
    "microlab.loc[(microlab['Unit'] == \"PICU\"), 'E'] = 1\n",
    "microlab.loc[(microlab['Unit'] == \"SICU\"), 'E'] = 1\n",
    "microlab.loc[(microlab['Unit'] == \"MSQ 6 ICU\"), 'E'] = 1\n",
    "microlab.loc[(microlab['Unit'] == \"PEDS CTICU\"), 'E'] = 1\n",
    "microlab.loc[(microlab['Unit'] == \"KCC6S CARDIAC ICU\"), 'E'] = 1\n",
    "\n",
    "transfer_3 = microlab"
   ]
  },
  {
   "cell_type": "code",
   "execution_count": 10,
   "metadata": {
    "collapsed": true
   },
   "outputs": [],
   "source": [
    "# Mixed Susceptibilities \"F\", +1 = Gain vs. -1 = Loss\n",
    "\n",
    "microlab              = microlab.sort_values(by = ['Patient ID', 'Collection Date', 'Isolate ID'])\n",
    "microlab['F']         = microlab.groupby(['Patient ID', 'Pathogen', 'Agent', 'Procedure'])['Numeric Status'].diff()\n",
    "microlab['Flip_Time'] = microlab.groupby(['Patient ID', 'Pathogen', 'Agent', 'Procedure'])['Collection Date'].diff()\n"
   ]
  },
  {
   "cell_type": "code",
   "execution_count": 11,
   "metadata": {
    "collapsed": true
   },
   "outputs": [],
   "source": [
    "# Polymicrobial Infections \"G\"\n",
    "\n",
    "subset_04 = microlab.groupby(['Patient ID', 'Isolate ID'])['Pathogen']\n",
    "for key, item in subset_04:\n",
    "    organisms = item.unique()\n",
    "\n",
    "    if len(organisms) > 1:\n",
    "\n",
    "        microlab.loc[(microlab['Patient ID'] == key[0]) & (microlab['Isolate ID'] == key[1]), 'G'] = 1\n",
    "        \n",
    "    else:\n",
    "        microlab.loc[(microlab['Patient ID'] == key[0]) & (microlab['Isolate ID'] == key[1]), 'G'] = 0\n"
   ]
  },
  {
   "cell_type": "code",
   "execution_count": 12,
   "metadata": {
    "collapsed": true
   },
   "outputs": [],
   "source": [
    "# ESKAPE vs. Other \"H\"\n",
    "\n",
    "microlab['H'] = 0\n",
    "\n",
    "eskape = [\n",
    "    \"Acinetobacter baumannii\",\n",
    "    \"Enterococcus faecalis\",\n",
    "    \"Enterococcus faecium\",\n",
    "    \"Serratia marcescens\",\n",
    "    \"Staphylococcus aureus\",\n",
    "    \"Klebsiella pneumoniae\",\n",
    "    \"Pseudomonas aeruginosa\",\n",
    "    \"Enterobacter cloacae\",\n",
    "    \"Enterobacter aerogenes\",\n",
    "    \"Escherichia coli\"\n",
    "    \n",
    "    ]\n",
    "\n",
    "microlab.loc[ microlab['Pathogen'].isin(eskape), 'H'] = 1\n",
    "microlab.loc[-microlab['Pathogen'].isin(eskape), 'H'] = 0"
   ]
  },
  {
   "cell_type": "code",
   "execution_count": 13,
   "metadata": {
    "collapsed": true
   },
   "outputs": [],
   "source": [
    "# ICU \"I\"\n",
    "microlab['I'] = 0\n",
    "microlab.loc[(microlab['Unit'] == \"CICU\"), 'I']              = 1\n",
    "microlab.loc[(microlab['Unit'] == \"KCC6S CARDIAC ICU\"), 'I'] = 1\n",
    "microlab.loc[(microlab['Unit'] == \"MICU\"), 'I']              = 1\n",
    "microlab.loc[(microlab['Unit'] == \"MSQ 6 ICU\"), 'I']         = 1\n",
    "microlab.loc[(microlab['Unit'] == \"NICU\"), 'I']              = 1\n",
    "microlab.loc[(microlab['Unit'] == \"PEDS CTICU\"), 'I']        = 1\n",
    "microlab.loc[(microlab['Unit'] == \"PICU\"), 'I']              = 1\n",
    "microlab.loc[(microlab['Unit'] == \"SICU\"), 'I']              = 1\n",
    "\n",
    "transfer_3 = microlab"
   ]
  },
  {
   "cell_type": "markdown",
   "metadata": {},
   "source": [
    "#### Filtering\n",
    "#### _____"
   ]
  },
  {
   "cell_type": "code",
   "execution_count": 14,
   "metadata": {
    "collapsed": true
   },
   "outputs": [],
   "source": [
    "microlab = transfer_3\n",
    "\n",
    "# Pathogen to Antibiotic Filtering\n",
    "microlab = microlab.loc[\n",
    "    (\n",
    "        (microlab['Pathogen'] == \"Acinetobacter baumannii\") &\n",
    "        (\n",
    "            (microlab['Agent'] == \"Amp/Sulbactam(c)\") |\n",
    "            (microlab['Agent'] == \"Ciprofloxacin\") |\n",
    "            (microlab['Agent'] == \"Gentamicin\") |\n",
    "            (microlab['Agent'] == \"Imipenem\") |\n",
    "            (microlab['Agent'] == \"Levofloxacin\") |\n",
    "            (microlab['Agent'] == \"TMPSMX\")\n",
    "            \n",
    "            )\n",
    "         ) |\n",
    "    \n",
    "    (\n",
    "        (microlab['Pathogen'] == \"Enterobacter cloacae\") &\n",
    "        (\n",
    "            (microlab['Agent'] == \"Amikacin\") |\n",
    "            (microlab['Agent'] == \"Cefepime\") |\n",
    "            (microlab['Agent'] == \"Ceftriaxone\") |\n",
    "            (microlab['Agent'] == \"Ciprofloxacin\") |\n",
    "            (microlab['Agent'] == \"Ertapenem\") |\n",
    "            (microlab['Agent'] == \"Gentamicin\") |\n",
    "            (microlab['Agent'] == \"Imipenem\") |\n",
    "            (microlab['Agent'] == \"Levofloxacin\") |\n",
    "            (microlab['Agent'] == \"PIPTAZ\") |\n",
    "            (microlab['Agent'] == \"Tobramycin\") |\n",
    "            (microlab['Agent'] == \"TMPSMX\")\n",
    "            \n",
    "            )\n",
    "        ) |\n",
    "    \n",
    "    (\n",
    "        (microlab['Pathogen'] == \"Enterococcus faecalis\") &\n",
    "        (\n",
    "            (microlab['Agent'] == \"Ampicillin\") |\n",
    "            (microlab['Agent'] == \"Cefepime\") |\n",
    "            (microlab['Agent'] == \"Ciprofloxacin\") |\n",
    "            (microlab['Agent'] == \"Daptomycin\") |\n",
    "            (microlab['Agent'] == \"Doxycycline\") |\n",
    "            (microlab['Agent'] == \"Gent. Synergy\") |\n",
    "            (microlab['Agent'] == \"Levofloxacin\") |\n",
    "            (microlab['Agent'] == \"Linezolid\") |\n",
    "            (microlab['Agent'] == \"Tetracycline\") |\n",
    "            (microlab['Agent'] == \"Vancomycin\")\n",
    "            \n",
    "            )\n",
    "        ) |\n",
    "\n",
    "    (\n",
    "        (microlab['Pathogen'] == \"Enterococcus faecium\") &\n",
    "        (\n",
    "            (microlab['Agent'] == \"Ampicillin\") |\n",
    "            (microlab['Agent'] == \"Cefepime\") |\n",
    "            (microlab['Agent'] == \"Ciprofloxacin\") |\n",
    "            (microlab['Agent'] == \"Daptomycin\") |\n",
    "            (microlab['Agent'] == \"Doxycycline\") |\n",
    "            (microlab['Agent'] == \"Gent. Synergy\") |\n",
    "            (microlab['Agent'] == \"Levofloxacin\") |\n",
    "            (microlab['Agent'] == \"Linezolid\") |\n",
    "            (microlab['Agent'] == \"Tetracycline\") |\n",
    "            (microlab['Agent'] == \"Vancomycin\")\n",
    "            \n",
    "            )\n",
    "        ) |\n",
    "    \n",
    "    (\n",
    "        (microlab['Pathogen'] == \"Klebsiella pneumoniae\") &\n",
    "        (\n",
    "            (microlab['Agent'] == \"Amikacin\") |\n",
    "            (microlab['Agent'] == \"Amp/Sulbactam(c)\") |\n",
    "            (microlab['Agent'] == \"Ampicillin\") |\n",
    "            (microlab['Agent'] == \"Cefepime\") |\n",
    "            (microlab['Agent'] == \"Ceftriaxone\") |\n",
    "            (microlab['Agent'] == \"Ciprofloxacin\") |\n",
    "            (microlab['Agent'] == \"Ertapenem\") |\n",
    "            (microlab['Agent'] == \"Gentamicin\") |\n",
    "            (microlab['Agent'] == \"Imipenem\") |\n",
    "            (microlab['Agent'] == \"Levofloxacin\") |\n",
    "            (microlab['Agent'] == \"PIPTAZ\") |\n",
    "            (microlab['Agent'] == \"Tobramycin\") |\n",
    "            (microlab['Agent'] == \"TMPSMX\")\n",
    "            \n",
    "            )\n",
    "        ) |\n",
    "\n",
    "    (\n",
    "        (microlab['Pathogen'] == \"Pseudomonas aeruginosa\") &\n",
    "        (\n",
    "            (microlab['Agent'] == \"Amikacin\") |\n",
    "            (microlab['Agent'] == \"Cefepime\") |\n",
    "            (microlab['Agent'] == \"Ciprofloxacin\") |\n",
    "            (microlab['Agent'] == \"Gentamicin\") |\n",
    "            (microlab['Agent'] == \"Imipenem\") |\n",
    "            (microlab['Agent'] == \"Levofloxacin\") |\n",
    "            (microlab['Agent'] == \"Meropenem\") |\n",
    "            (microlab['Agent'] == \"PIPTAZ\")\n",
    "            \n",
    "            )\n",
    "        ) |\n",
    "\n",
    "\n",
    "    (\n",
    "        (microlab['Pathogen'] == \"Serratia marcescens\") &\n",
    "        (\n",
    "            (microlab['Agent'] == \"Cefepime\") |\n",
    "            (microlab['Agent'] == \"Ciprofloxacin\") |\n",
    "            (microlab['Agent'] == \"Amikacin\") |\n",
    "            (microlab['Agent'] == \"Ertapenem\") |\n",
    "            (microlab['Agent'] == \"Gentamicin\") |\n",
    "            (microlab['Agent'] == \"Levofloxacin\") |\n",
    "            (microlab['Agent'] == \"Ceftriaxone\") |\n",
    "            (microlab['Agent'] == \"TMPSMX\") |\n",
    "            (microlab['Agent'] == \"Tobramycin\")\n",
    "            \n",
    "            )\n",
    "        ) |\n",
    "    \n",
    "    \n",
    "    (\n",
    "        (microlab['Pathogen'] == \"Staphylococcus aureus\") &\n",
    "        (\n",
    "            (microlab['Agent'] == \"Ciprofloxacin\") |\n",
    "            (microlab['Agent'] == \"Clindamycin\") |\n",
    "            (microlab['Agent'] == \"Daptomycin\") |\n",
    "            (microlab['Agent'] == \"Doxycycline\") |\n",
    "            (microlab['Agent'] == \"Erythromycin\") |\n",
    "            (microlab['Agent'] == \"Gentamicin\") |\n",
    "            (microlab['Agent'] == \"Levofloxacin\") |\n",
    "            (microlab['Agent'] == \"Linezolid\") |\n",
    "            (microlab['Agent'] == \"Oxacillin\") |\n",
    "            (microlab['Agent'] == \"TMPSMX\") |\n",
    "            (microlab['Agent'] == \"Vancomycin\")\n",
    "            \n",
    "        )\n",
    "    )\n",
    "]\n",
    "\n",
    "transfer_4 = microlab\n"
   ]
  },
  {
   "cell_type": "markdown",
   "metadata": {},
   "source": [
    "#### Export Data\n",
    "#### ____"
   ]
  },
  {
   "cell_type": "code",
   "execution_count": 15,
   "metadata": {
    "collapsed": true
   },
   "outputs": [],
   "source": [
    "microlab  = transfer_4\n",
    "\n",
    "microlab.to_csv('./R/data/summary_data.csv', sep = '\\t', index=False)\n"
   ]
  }
 ],
 "metadata": {
  "kernelspec": {
   "display_name": "Python 3",
   "language": "python",
   "name": "python3"
  },
  "language_info": {
   "codemirror_mode": {
    "name": "ipython",
    "version": 3
   },
   "file_extension": ".py",
   "mimetype": "text/x-python",
   "name": "python",
   "nbconvert_exporter": "python",
   "pygments_lexer": "ipython3",
   "version": "3.6.3"
  }
 },
 "nbformat": 4,
 "nbformat_minor": 2
}
