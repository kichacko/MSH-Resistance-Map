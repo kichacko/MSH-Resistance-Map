{
 "cells": [
  {
   "cell_type": "markdown",
   "metadata": {},
   "source": [
    "## Combining Datasets\n",
    "\n",
    "#### - This script combines datasets provided from EPIC. eg. including Visit IDs for each susceptibility profile\n",
    "#### - This will need to be updated each time a new dataset is incorporated\n",
    "#### _"
   ]
  },
  {
   "cell_type": "code",
   "execution_count": 1,
   "metadata": {
    "collapsed": true
   },
   "outputs": [],
   "source": [
    "# Import Modules\n",
    "\n",
    "import pandas as pd\n",
    "import numpy as np\n"
   ]
  },
  {
   "cell_type": "code",
   "execution_count": 2,
   "metadata": {
    "collapsed": true
   },
   "outputs": [],
   "source": [
    "# Load Datasets\n",
    "\n",
    "microlab = pd.read_csv('../Data/2017-10-05 - Micro_Bacterium_Report-Deidentified.txt', sep = \"\\t\", low_memory = False)\n",
    "encounters = pd.read_csv('../Data/2017-10-05 - Encounters_Report-Deidentified.txt', sep = \"\\t\", low_memory = False)\n",
    "medications = pd.read_csv('../Data/2017-10-05 - Medications_Report-Deidentified.txt', sep = \"\\t\", low_memory = False)\n"
   ]
  },
  {
   "cell_type": "markdown",
   "metadata": {},
   "source": [
    "#### Combine Encounters into Microlab report\n",
    "#### _"
   ]
  },
  {
   "cell_type": "code",
   "execution_count": null,
   "metadata": {
    "collapsed": true
   },
   "outputs": [],
   "source": [
    "# Match hospital admission, discharge and VISIT IDs with the microbiology data (Run on MINERVA)\n",
    "\n",
    "# Subset the Microlab data to reduce the memory burden\n",
    "microlab_subset = microlab[[\n",
    "        'ID',\n",
    "        'SPECIMEN_TAKEN_DATE',\n",
    "    ]]\n",
    "\n",
    "# Subset the encounters data to reduce memory burden\n",
    "encounters_subset = encounters[[\n",
    "        'ID',\n",
    "        'AGE',\n",
    "        'SEX',\n",
    "        'BMI',\n",
    "        'DEPARTMENT_NAME',\n",
    "        'ENCOUNTER_TYPE',\n",
    "        'SOCIAL_HX_TOBACCO_USER',\n",
    "        'HOSP_ADMSN_TIME',\n",
    "        'HOSP_DISCHRG_TIME',\n",
    "        'VISIT_ID'\n",
    "    ]]\n",
    "\n",
    "# Merge the two subset datasets together to create a VISIT_ID list\n",
    "visit_IDs = pd.merge(microlab_subset, encounters_subset, how = 'left', on = 'ID') # We only care about Patients that have Microlab results, therefore \"LEFT\"\n",
    "visit_IDs = visit_IDs[(visit_IDs['HOSP_ADMSN_TIME'] <= visit_IDs['SPECIMEN_TAKEN_DATE']) & (visit_IDs['HOSP_DISCHRG_TIME'] >= visit_IDs['SPECIMEN_TAKEN_DATE'])]\n",
    "visit_IDs = visit_IDs.drop_duplicates()\n",
    "\n",
    "# Merge the Visit IDs to the original Microlab data\n",
    "full_microlab_data = pd.merge(microlab, visit_IDs, how = 'left', on = ['ID', 'SPECIMEN_TAKEN_DATE'])\n",
    "\n",
    "# Save the data\n",
    "full_microlab_data.to_csv('full_microlab_data.txt', sep='\\t', index=False)\n"
   ]
  },
  {
   "cell_type": "markdown",
   "metadata": {},
   "source": [
    "#### Combine Microlab into Medications report\n",
    "#### _"
   ]
  },
  {
   "cell_type": "code",
   "execution_count": null,
   "metadata": {
    "collapsed": true
   },
   "outputs": [],
   "source": [
    "# Match hospital admission, discharge and VISIT IDs with the medications data (Run on MINERVA)\n",
    "\n",
    "# Subset the full_medications_data to reduce memory burden. Using this dataset (and not encounters) because we want the matching organism information\n",
    "microlab_subset = full_microlab_data[[\n",
    "        'VISIT_ID',\n",
    "        'HOSP_ADMSN_TIME',\n",
    "        'HOSP_DISCHRG_TIME',\n",
    "        'Organism',\n",
    "        'SPECIMEN_TAKEN_DATE'\n",
    "        ]]\n",
    "\n",
    "microlab_subset = microlab_subset.drop_duplicates()\n",
    "\n",
    "# Merge the Visit IDs to the original Microlab data\n",
    "full_medications_data = pd.merge(medications, microlab_subset, how = 'left', on=['VISIT_ID']) # Merge left because we want all of the medication data.\n",
    "\n",
    "# Save the data\n",
    "full_medications_data.to_csv('full_medications_data.txt', sep='\\t', index=False)\n"
   ]
  }
 ],
 "metadata": {
  "kernelspec": {
   "display_name": "Python 3",
   "language": "python",
   "name": "python3"
  },
  "language_info": {
   "codemirror_mode": {
    "name": "ipython",
    "version": 3
   },
   "file_extension": ".py",
   "mimetype": "text/x-python",
   "name": "python",
   "nbconvert_exporter": "python",
   "pygments_lexer": "ipython3",
   "version": "3.5.1"
  }
 },
 "nbformat": 4,
 "nbformat_minor": 1
}
